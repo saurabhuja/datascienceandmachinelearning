{
 "cells": [
  {
   "cell_type": "code",
   "execution_count": 1,
   "id": "e3f50dec",
   "metadata": {},
   "outputs": [],
   "source": [
    "import numpy as np\n",
    "import matplotlib.pyplot as plt\n",
    "import pandas as pd"
   ]
  },
  {
   "cell_type": "code",
   "execution_count": 2,
   "id": "a1992dd3",
   "metadata": {},
   "outputs": [],
   "source": [
    "# Series - one dimentional array"
   ]
  },
  {
   "cell_type": "code",
   "execution_count": 8,
   "id": "87755a43",
   "metadata": {},
   "outputs": [],
   "source": [
    "varObj=pd.Series([4,7,-5,3])"
   ]
  },
  {
   "cell_type": "code",
   "execution_count": 9,
   "id": "4beee888",
   "metadata": {},
   "outputs": [
    {
     "name": "stdout",
     "output_type": "stream",
     "text": [
      "Datatype of varObj <class 'pandas.core.series.Series'>\n",
      "Values on varObj\n",
      "0    4\n",
      "1    7\n",
      "2   -5\n",
      "3    3\n",
      "dtype: int64\n",
      "\n",
      "Series values [ 4  7 -5  3]\n",
      "Series index RangeIndex(start=0, stop=4, step=1)\n"
     ]
    }
   ],
   "source": [
    "print(\"Datatype of varObj\", type(varObj))\n",
    "print(\"Values on varObj\")\n",
    "print(varObj)\n",
    "print()\n",
    "\n",
    "print(\"Series values\", varObj.values)\n",
    "print(\"Series index\", varObj.index)"
   ]
  },
  {
   "cell_type": "code",
   "execution_count": 10,
   "id": "e2f59732",
   "metadata": {},
   "outputs": [],
   "source": [
    "varObj2=pd.Series([4,7,-5,3],index=['d','b','a','c'])"
   ]
  },
  {
   "cell_type": "code",
   "execution_count": 11,
   "id": "1b95e94a",
   "metadata": {},
   "outputs": [
    {
     "name": "stdout",
     "output_type": "stream",
     "text": [
      "Datatype of varObj2 <class 'pandas.core.series.Series'>\n",
      "Values on varObj2\n",
      "d    4\n",
      "b    7\n",
      "a   -5\n",
      "c    3\n",
      "dtype: int64\n",
      "\n",
      "Series values [ 4  7 -5  3]\n",
      "Series index Index(['d', 'b', 'a', 'c'], dtype='object')\n",
      "\n",
      "Value at index a -5\n",
      "Value at index c,a & b\n",
      "c    3\n",
      "a   -5\n",
      "b    7\n",
      "dtype: int64\n"
     ]
    }
   ],
   "source": [
    "print(\"Datatype of varObj2\", type(varObj2))\n",
    "print(\"Values on varObj2\")\n",
    "print(varObj2)\n",
    "print()\n",
    "\n",
    "print(\"Series values\", varObj2.values)\n",
    "print(\"Series index\", varObj2.index)\n",
    "print()\n",
    "\n",
    "print(\"Value at index a\", varObj2['a'])\n",
    "print(\"Value at index c,a & b\")\n",
    "print(varObj2[['c','a','b']])"
   ]
  },
  {
   "cell_type": "code",
   "execution_count": 13,
   "id": "f52b0b01",
   "metadata": {},
   "outputs": [],
   "source": [
    "Pdict = {\"David\":0,\"Joe\":1,\"James\":2,\"Anthony\":3,\"Danny\":4,\"Chris\":5,\"Paul\":6,\"Kevin\":7,\"Derrick\":8,\"Dwayne\":9}"
   ]
  },
  {
   "cell_type": "code",
   "execution_count": 14,
   "id": "f0c5b05e",
   "metadata": {},
   "outputs": [],
   "source": [
    "varObj3=pd.Series(Pdict)"
   ]
  },
  {
   "cell_type": "code",
   "execution_count": 15,
   "id": "7153bca6",
   "metadata": {},
   "outputs": [
    {
     "name": "stdout",
     "output_type": "stream",
     "text": [
      "David      0\n",
      "Joe        1\n",
      "James      2\n",
      "Anthony    3\n",
      "Danny      4\n",
      "Chris      5\n",
      "Paul       6\n",
      "Kevin      7\n",
      "Derrick    8\n",
      "Dwayne     9\n",
      "dtype: int64\n"
     ]
    }
   ],
   "source": [
    "print(varObj3)"
   ]
  },
  {
   "cell_type": "code",
   "execution_count": 30,
   "id": "3c98167a",
   "metadata": {},
   "outputs": [
    {
     "name": "stdout",
     "output_type": "stream",
     "text": [
      "0    -0.501937\n",
      "10   -0.339709\n",
      "20   -0.510438\n",
      "30   -0.301814\n",
      "40   -1.143572\n",
      "50    0.130175\n",
      "60    0.738194\n",
      "70    0.705954\n",
      "80    0.893751\n",
      "90    1.590744\n",
      "dtype: float64\n"
     ]
    },
    {
     "data": {
      "image/png": "[encoded data removed]",
      "text/plain": [
       "<Figure size 432x288 with 1 Axes>"
      ]
     },
     "metadata": {
      "needs_background": "light"
     },
     "output_type": "display_data"
    }
   ],
   "source": [
    "s=pd.Series(np.random.randn(10).cumsum(),index=np.arange(0,100,10))\n",
    "print(s)\n",
    "s.plot()\n",
    "plt.show()"
   ]
  },
  {
   "cell_type": "markdown",
   "id": "a7a211ee",
   "metadata": {},
   "source": [
    "# DataFrame"
   ]
  },
  {
   "cell_type": "code",
   "execution_count": 22,
   "id": "672a87c1",
   "metadata": {},
   "outputs": [
    {
     "data": {
      "text/html": [
       "<div>\n",
       "<style scoped>\n",
       "    .dataframe tbody tr th:only-of-type {\n",
       "        vertical-align: middle;\n",
       "    }\n",
       "\n",
       "    .dataframe tbody tr th {\n",
       "        vertical-align: top;\n",
       "    }\n",
       "\n",
       "    .dataframe thead th {\n",
       "        text-align: right;\n",
       "    }\n",
       "</style>\n",
       "<table border=\"1\" class=\"dataframe\">\n",
       "  <thead>\n",
       "    <tr style=\"text-align: right;\">\n",
       "      <th></th>\n",
       "      <th>state</th>\n",
       "      <th>year</th>\n",
       "      <th>taxRate</th>\n",
       "    </tr>\n",
       "  </thead>\n",
       "  <tbody>\n",
       "    <tr>\n",
       "      <th>0</th>\n",
       "      <td>Ohio</td>\n",
       "      <td>2000</td>\n",
       "      <td>1.5</td>\n",
       "    </tr>\n",
       "    <tr>\n",
       "      <th>1</th>\n",
       "      <td>Ohio</td>\n",
       "      <td>20021</td>\n",
       "      <td>1.7</td>\n",
       "    </tr>\n",
       "    <tr>\n",
       "      <th>2</th>\n",
       "      <td>Ohio</td>\n",
       "      <td>2002</td>\n",
       "      <td>3.6</td>\n",
       "    </tr>\n",
       "    <tr>\n",
       "      <th>3</th>\n",
       "      <td>Nevada</td>\n",
       "      <td>2001</td>\n",
       "      <td>2.4</td>\n",
       "    </tr>\n",
       "    <tr>\n",
       "      <th>4</th>\n",
       "      <td>Nevada</td>\n",
       "      <td>2002</td>\n",
       "      <td>2.9</td>\n",
       "    </tr>\n",
       "    <tr>\n",
       "      <th>5</th>\n",
       "      <td>Nevada</td>\n",
       "      <td>2003</td>\n",
       "      <td>3.2</td>\n",
       "    </tr>\n",
       "  </tbody>\n",
       "</table>\n",
       "</div>"
      ],
      "text/plain": [
       "    state   year  taxRate\n",
       "0    Ohio   2000      1.5\n",
       "1    Ohio  20021      1.7\n",
       "2    Ohio   2002      3.6\n",
       "3  Nevada   2001      2.4\n",
       "4  Nevada   2002      2.9\n",
       "5  Nevada   2003      3.2"
      ]
     },
     "execution_count": 22,
     "metadata": {},
     "output_type": "execute_result"
    }
   ],
   "source": [
    "data = {'state':['Ohio','Ohio','Ohio','Nevada','Nevada','Nevada'],\n",
    "       'year':[2000,20021,2002,2001,2002,2003],\n",
    "       'taxRate':[1.5,1.7,3.6,2.4,2.9,3.2]}\n",
    "frame=pd.DataFrame(data)\n",
    "frame"
   ]
  },
  {
   "cell_type": "code",
   "execution_count": 29,
   "id": "0e3f791a",
   "metadata": {},
   "outputs": [
    {
     "data": {
      "image/png": "[encoded data removed]",
      "text/plain": [
       "<Figure size 432x288 with 1 Axes>"
      ]
     },
     "metadata": {
      "needs_background": "light"
     },
     "output_type": "display_data"
    }
   ],
   "source": [
    "df = pd.DataFrame(np.random.randn(10,4).cumsum(0),\n",
    "            columns=['A','B','C','D'],\n",
    "            index=np.arange(0,100,10))\n",
    "df.plot()\n",
    "plt.show()"
   ]
  }
 ],
 "metadata": {
  "kernelspec": {
   "display_name": "Python 3",
   "language": "python",
   "name": "python3"
  },
  "language_info": {
   "codemirror_mode": {
    "name": "ipython",
    "version": 3
   },
   "file_extension": ".py",
   "mimetype": "text/x-python",
   "name": "python",
   "nbconvert_exporter": "python",
   "pygments_lexer": "ipython3",
   "version": "3.8.8"
  }
 },
 "nbformat": 4,
 "nbformat_minor": 5
}
