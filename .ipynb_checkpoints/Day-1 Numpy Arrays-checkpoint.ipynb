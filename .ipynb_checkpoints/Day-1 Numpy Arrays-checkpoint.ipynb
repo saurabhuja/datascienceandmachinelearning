{
 "cells": [
  {
   "cell_type": "code",
   "execution_count": 1,
   "id": "3fd1236b",
   "metadata": {},
   "outputs": [],
   "source": [
    "import numpy as np"
   ]
  },
  {
   "cell_type": "code",
   "execution_count": 2,
   "id": "09fbb5c1",
   "metadata": {},
   "outputs": [
    {
     "name": "stdout",
     "output_type": "stream",
     "text": [
      "Numpy Package Version 1.20.1\n"
     ]
    }
   ],
   "source": [
    "print(\"Numpy Package Version\", np.__version__)"
   ]
  },
  {
   "cell_type": "code",
   "execution_count": 7,
   "id": "6c920f0d",
   "metadata": {},
   "outputs": [
    {
     "name": "stdout",
     "output_type": "stream",
     "text": [
      "mArray  <class 'numpy.ndarray'>\n",
      "mList  <class 'list'>\n"
     ]
    }
   ],
   "source": [
    "myList = list(range(0,10000000))\n",
    "myArray = np.arange(0,10000000)\n",
    "\n",
    "print(\"mArray \",type(myArray))\n",
    "print(\"mList \",type(myList))"
   ]
  },
  {
   "cell_type": "code",
   "execution_count": 8,
   "id": "c964d843",
   "metadata": {},
   "outputs": [
    {
     "name": "stdout",
     "output_type": "stream",
     "text": [
      "CPU times: user 2.28 s, sys: 976 ms, total: 3.25 s\n",
      "Wall time: 3.27 s\n"
     ]
    }
   ],
   "source": [
    "%time for i in range(10): newList = [ x*2 for x in myList]"
   ]
  },
  {
   "cell_type": "code",
   "execution_count": 9,
   "id": "5b01b9be",
   "metadata": {},
   "outputs": [
    {
     "name": "stdout",
     "output_type": "stream",
     "text": [
      "CPU times: user 83.3 ms, sys: 91.2 ms, total: 175 ms\n",
      "Wall time: 174 ms\n"
     ]
    }
   ],
   "source": [
    "%time for i in range(10): newArray = myArray*2"
   ]
  },
  {
   "cell_type": "markdown",
   "id": "c54e90ab",
   "metadata": {},
   "source": [
    "# Numpy Array Operations"
   ]
  },
  {
   "cell_type": "code",
   "execution_count": 11,
   "id": "73d70e5f",
   "metadata": {},
   "outputs": [],
   "source": [
    "mList = [11,22,33,44,55,66,77,88,99]\n",
    "\n",
    "arr = np.array(mList)"
   ]
  },
  {
   "cell_type": "code",
   "execution_count": 13,
   "id": "ae59bc63",
   "metadata": {},
   "outputs": [
    {
     "name": "stdout",
     "output_type": "stream",
     "text": [
      "Values in Array [11 22 33 44 55 66 77 88 99]\n",
      "Datatypes <class 'numpy.ndarray'>\n",
      "Dimension of Array 1\n",
      "Size of each Dimension (9,)\n",
      "Lenght of array 9\n"
     ]
    }
   ],
   "source": [
    "print(\"Values in Array\", arr)\n",
    "print(\"Datatypes\",type(arr))\n",
    "print(\"Dimension of Array\",arr.ndim)\n",
    "print(\"Size of each Dimension\", arr.shape)\n",
    "print(\"Lenght of array\", len(arr))"
   ]
  },
  {
   "cell_type": "code",
   "execution_count": 14,
   "id": "9ce18bf0",
   "metadata": {},
   "outputs": [
    {
     "data": {
      "text/plain": [
       "array([ 22,  44,  66,  88, 110, 132, 154, 176, 198])"
      ]
     },
     "execution_count": 14,
     "metadata": {},
     "output_type": "execute_result"
    }
   ],
   "source": [
    "arr*2"
   ]
  },
  {
   "cell_type": "code",
   "execution_count": 15,
   "id": "c39ea5d4",
   "metadata": {},
   "outputs": [
    {
     "data": {
      "text/plain": [
       "array([0.11, 0.22, 0.33, 0.44, 0.55, 0.66, 0.77, 0.88, 0.99])"
      ]
     },
     "execution_count": 15,
     "metadata": {},
     "output_type": "execute_result"
    }
   ],
   "source": [
    "arr/100"
   ]
  },
  {
   "cell_type": "code",
   "execution_count": 16,
   "id": "29504dbf",
   "metadata": {},
   "outputs": [
    {
     "data": {
      "text/plain": [
       "array([ 2, 13, 24, 35, 46, 57, 68, 79, 90])"
      ]
     },
     "execution_count": 16,
     "metadata": {},
     "output_type": "execute_result"
    }
   ],
   "source": [
    "arr-9"
   ]
  },
  {
   "cell_type": "code",
   "execution_count": 17,
   "id": "05ba3c3a",
   "metadata": {},
   "outputs": [
    {
     "data": {
      "text/plain": [
       "array([ 121,  484, 1089, 1936, 3025, 4356, 5929, 7744, 9801])"
      ]
     },
     "execution_count": 17,
     "metadata": {},
     "output_type": "execute_result"
    }
   ],
   "source": [
    "arr*arr"
   ]
  },
  {
   "cell_type": "code",
   "execution_count": 18,
   "id": "5a500cba",
   "metadata": {},
   "outputs": [
    {
     "data": {
      "text/plain": [
       "array([0.1, 0.2, 0.3, 0.4, 0.6, 0.7, 0.8, 0.9, 1. ])"
      ]
     },
     "execution_count": 18,
     "metadata": {},
     "output_type": "execute_result"
    }
   ],
   "source": [
    "np.round(arr/100,1)"
   ]
  },
  {
   "cell_type": "code",
   "execution_count": 19,
   "id": "5de4c362",
   "metadata": {},
   "outputs": [
    {
     "name": "stdout",
     "output_type": "stream",
     "text": [
      "Max 99\n",
      "Min 11\n",
      "Avg 55.0\n",
      "Sum 495\n"
     ]
    }
   ],
   "source": [
    "print(\"Max\", arr.max())\n",
    "print(\"Min\", arr.min())\n",
    "print(\"Avg\", arr.mean())\n",
    "print(\"Sum\", arr.sum())"
   ]
  },
  {
   "cell_type": "markdown",
   "id": "331f63e9",
   "metadata": {},
   "source": [
    "# Types of Values in Arrays"
   ]
  },
  {
   "cell_type": "code",
   "execution_count": 22,
   "id": "65e13453",
   "metadata": {},
   "outputs": [],
   "source": [
    "# boolean -> integer -> float -> string"
   ]
  },
  {
   "cell_type": "code",
   "execution_count": 24,
   "id": "31ce063d",
   "metadata": {},
   "outputs": [
    {
     "name": "stdout",
     "output_type": "stream",
     "text": [
      "Array Values ['11' '22' 'True' 'False' '31.34' 'oracle' 'True' '33' '44']\n",
      "Datatype of mArr <class 'numpy.ndarray'>\n",
      "Datatype of Values in mArr <U32\n"
     ]
    }
   ],
   "source": [
    "mArr = np.array([11,22,True,False,31.34,'oracle',True,33,44])\n",
    "\n",
    "print(\"Array Values\",mArr)\n",
    "print(\"Datatype of mArr\", type(mArr))\n",
    "print(\"Datatype of Values in mArr\", mArr.dtype)"
   ]
  },
  {
   "cell_type": "code",
   "execution_count": 25,
   "id": "f8239cdc",
   "metadata": {},
   "outputs": [
    {
     "data": {
      "text/plain": [
       "array([False, False, False, False,  True,  True,  True,  True,  True])"
      ]
     },
     "execution_count": 25,
     "metadata": {},
     "output_type": "execute_result"
    }
   ],
   "source": [
    "arr >50 # returns boolean array satifying the condition"
   ]
  },
  {
   "cell_type": "code",
   "execution_count": 27,
   "id": "5863e3b8",
   "metadata": {},
   "outputs": [
    {
     "data": {
      "text/plain": [
       "(array([3, 4, 5, 6, 7, 8]),)"
      ]
     },
     "execution_count": 27,
     "metadata": {},
     "output_type": "execute_result"
    }
   ],
   "source": [
    "np.where(arr>40)"
   ]
  },
  {
   "cell_type": "code",
   "execution_count": 29,
   "id": "f87078b6",
   "metadata": {},
   "outputs": [
    {
     "data": {
      "text/plain": [
       "135437655103216"
      ]
     },
     "execution_count": 29,
     "metadata": {},
     "output_type": "execute_result"
    }
   ],
   "source": [
    "id(arr)"
   ]
  },
  {
   "cell_type": "code",
   "execution_count": 30,
   "id": "56b3b01b",
   "metadata": {},
   "outputs": [
    {
     "data": {
      "text/plain": [
       "135435986729456"
      ]
     },
     "execution_count": 30,
     "metadata": {},
     "output_type": "execute_result"
    }
   ],
   "source": [
    "id(arr>50)"
   ]
  },
  {
   "cell_type": "markdown",
   "id": "5b20a990",
   "metadata": {},
   "source": [
    "# Finance Data Analysis"
   ]
  },
  {
   "cell_type": "code",
   "execution_count": 34,
   "id": "b58a7ae2",
   "metadata": {},
   "outputs": [
    {
     "name": "stdout",
     "output_type": "stream",
     "text": [
      "Shape of Array revenue (12,)\n",
      "Shape of Array expenses (12,)\n"
     ]
    }
   ],
   "source": [
    "# input data\n",
    "revenue = [14574.49, 7606.46, 8611.41, 9175.41, 8058.65, 8105.44, 11496.28, 9766.09, 10305.32, 14379.96, 10713.97, 15433.50]\n",
    "expenses = [12051.82, 5695.07, 12319.20, 12089.72, 8658.57, 840.20, 3285.73, 5821.12, 6976.93, 16618.61, 10054.37, 3803.96]\n",
    "\n",
    "revenue = np.array(revenue)\n",
    "expenses = np.array(expenses)\n",
    "\n",
    "print(\"Shape of Array revenue\", revenue.shape)\n",
    "print(\"Shape of Array expenses\",expenses.shape)"
   ]
  },
  {
   "cell_type": "code",
   "execution_count": 35,
   "id": "a95f9d45",
   "metadata": {},
   "outputs": [
    {
     "name": "stdout",
     "output_type": "stream",
     "text": [
      "[ 2522.67  1911.39 -3707.79 -2914.31  -599.92  7265.24  8210.55  3944.97\n",
      "  3328.39 -2238.65   659.6  11629.54]\n"
     ]
    }
   ],
   "source": [
    "# monthly profit for each months\n",
    "monthly_profit=revenue-expenses\n",
    "print(monthly_profit)"
   ]
  },
  {
   "cell_type": "code",
   "execution_count": 36,
   "id": "bdfab657",
   "metadata": {},
   "outputs": [
    {
     "name": "stdout",
     "output_type": "stream",
     "text": [
      "[ 1765.869  1337.973 -2595.453 -2040.017  -419.944  5085.668  5747.385\n",
      "  2761.479  2329.873 -1567.055   461.72   8140.678]\n"
     ]
    }
   ],
   "source": [
    "# Calculate Profit After Tax, total amount 30%  on monthly profit for all months\n",
    "PAT=monthly_profit*.7\n",
    "print(PAT)"
   ]
  },
  {
   "cell_type": "code",
   "execution_count": 41,
   "id": "1a8d184d",
   "metadata": {},
   "outputs": [
    {
     "name": "stdout",
     "output_type": "stream",
     "text": [
      "[ 12  18 -30 -22  -5  63  50  28  23 -11   4  53]\n"
     ]
    }
   ],
   "source": [
    "# Calculate Profit Margin, PAT divided by revenue, calculate as percentage with 0 decimals\n",
    "profit_margin=PAT/revenue*100\n",
    "print(np.round(profit_margin).astype('int'))"
   ]
  },
  {
   "cell_type": "markdown",
   "id": "8a7293c8",
   "metadata": {},
   "source": [
    "# Slicing"
   ]
  },
  {
   "cell_type": "code",
   "execution_count": 42,
   "id": "8ea0712b",
   "metadata": {},
   "outputs": [
    {
     "data": {
      "text/plain": [
       "array(['a', 'b', 'c', 'd', 'e', 'f', 'g', 'h', 'i', 'j'], dtype='<U1')"
      ]
     },
     "execution_count": 42,
     "metadata": {},
     "output_type": "execute_result"
    }
   ],
   "source": [
    "letters = np.array(['a','b','c','d','e','f','g','h','i','j'])\n",
    "letters"
   ]
  },
  {
   "cell_type": "code",
   "execution_count": 43,
   "id": "1b7b12e3",
   "metadata": {},
   "outputs": [
    {
     "data": {
      "text/plain": [
       "array(['c', 'd', 'e', 'f', 'g', 'h'], dtype='<U1')"
      ]
     },
     "execution_count": 43,
     "metadata": {},
     "output_type": "execute_result"
    }
   ],
   "source": [
    "letters[2:8]"
   ]
  },
  {
   "cell_type": "code",
   "execution_count": 45,
   "id": "8abb4e4f",
   "metadata": {},
   "outputs": [
    {
     "data": {
      "text/plain": [
       "array(['a', 'b', 'c', 'd', 'e', 'f', 'g', 'h', 'i', 'j'], dtype='<U1')"
      ]
     },
     "execution_count": 45,
     "metadata": {},
     "output_type": "execute_result"
    }
   ],
   "source": [
    "letters[:]"
   ]
  },
  {
   "cell_type": "code",
   "execution_count": 46,
   "id": "10f53685",
   "metadata": {},
   "outputs": [
    {
     "data": {
      "text/plain": [
       "array(['a', 'b', 'c', 'd', 'e', 'f', 'g', 'h', 'i', 'j'], dtype='<U1')"
      ]
     },
     "execution_count": 46,
     "metadata": {},
     "output_type": "execute_result"
    }
   ],
   "source": [
    "letters[::]"
   ]
  },
  {
   "cell_type": "code",
   "execution_count": 47,
   "id": "71b331e5",
   "metadata": {},
   "outputs": [
    {
     "data": {
      "text/plain": [
       "array(['j', 'i', 'h', 'g', 'f', 'e', 'd', 'c', 'b', 'a'], dtype='<U1')"
      ]
     },
     "execution_count": 47,
     "metadata": {},
     "output_type": "execute_result"
    }
   ],
   "source": [
    "letters[::-1]"
   ]
  },
  {
   "cell_type": "code",
   "execution_count": 48,
   "id": "b2e13c74",
   "metadata": {},
   "outputs": [
    {
     "data": {
      "text/plain": [
       "array(['a', 'd', 'g', 'j'], dtype='<U1')"
      ]
     },
     "execution_count": 48,
     "metadata": {},
     "output_type": "execute_result"
    }
   ],
   "source": [
    "letters[::3]"
   ]
  },
  {
   "cell_type": "code",
   "execution_count": 56,
   "id": "81e6ab7e",
   "metadata": {},
   "outputs": [
    {
     "data": {
      "text/plain": [
       "array(['b', 'd', 'f', 'h'], dtype='<U1')"
      ]
     },
     "execution_count": 56,
     "metadata": {},
     "output_type": "execute_result"
    }
   ],
   "source": [
    "letters[1:8:2]"
   ]
  },
  {
   "cell_type": "code",
   "execution_count": 57,
   "id": "26e3fe2a",
   "metadata": {},
   "outputs": [
    {
     "data": {
      "text/plain": [
       "array(['i', 'g', 'e', 'c'], dtype='<U1')"
      ]
     },
     "execution_count": 57,
     "metadata": {},
     "output_type": "execute_result"
    }
   ],
   "source": [
    "letters[8:1:-2]"
   ]
  },
  {
   "cell_type": "code",
   "execution_count": 59,
   "id": "f85c16c2",
   "metadata": {},
   "outputs": [
    {
     "data": {
      "text/plain": [
       "array(['a', 'b', 'c', 'd', 'e', 'f', 'g', 'h', 'i'], dtype='<U1')"
      ]
     },
     "execution_count": 59,
     "metadata": {},
     "output_type": "execute_result"
    }
   ],
   "source": [
    "letters[:-1] #everything except last, start from 0 till -1 with step of 1"
   ]
  },
  {
   "cell_type": "code",
   "execution_count": 61,
   "id": "7573f436",
   "metadata": {},
   "outputs": [
    {
     "data": {
      "text/plain": [
       "array(['f', 'g', 'h', 'i', 'j'], dtype='<U1')"
      ]
     },
     "execution_count": 61,
     "metadata": {},
     "output_type": "execute_result"
    }
   ],
   "source": [
    "letters[-5:]#last 5 values , start at -5, till last,step is 1"
   ]
  },
  {
   "cell_type": "code",
   "execution_count": 62,
   "id": "874bdc51",
   "metadata": {},
   "outputs": [
    {
     "data": {
      "text/plain": [
       "'a'"
      ]
     },
     "execution_count": 62,
     "metadata": {},
     "output_type": "execute_result"
    }
   ],
   "source": [
    "letters[0]           # returns value at index 0 as string type variable"
   ]
  },
  {
   "cell_type": "code",
   "execution_count": 63,
   "id": "a841b684",
   "metadata": {},
   "outputs": [
    {
     "name": "stdout",
     "output_type": "stream",
     "text": [
      "<class 'numpy.ndarray'>\n"
     ]
    }
   ],
   "source": [
    "print(type(letters))"
   ]
  },
  {
   "cell_type": "code",
   "execution_count": 64,
   "id": "00624e99",
   "metadata": {},
   "outputs": [
    {
     "data": {
      "text/plain": [
       "array(['a'], dtype='<U1')"
      ]
     },
     "execution_count": 64,
     "metadata": {},
     "output_type": "execute_result"
    }
   ],
   "source": [
    "letters[0:1]         # returns value at index 0 as numpy array"
   ]
  },
  {
   "cell_type": "code",
   "execution_count": 66,
   "id": "441b021d",
   "metadata": {},
   "outputs": [
    {
     "data": {
      "text/plain": [
       "array([ 0,  1,  2,  3,  4,  5,  6,  7,  8,  9, 10, 11, 12, 13, 14, 15, 16,\n",
       "       17, 18, 19])"
      ]
     },
     "execution_count": 66,
     "metadata": {},
     "output_type": "execute_result"
    }
   ],
   "source": [
    "arr = np.arange(20)  # 1d array\n",
    "arr"
   ]
  },
  {
   "cell_type": "code",
   "execution_count": 67,
   "id": "60dbf921",
   "metadata": {},
   "outputs": [
    {
     "data": {
      "text/plain": [
       "array([[ 0,  1,  2,  3],\n",
       "       [ 4,  5,  6,  7],\n",
       "       [ 8,  9, 10, 11],\n",
       "       [12, 13, 14, 15],\n",
       "       [16, 17, 18, 19]])"
      ]
     },
     "execution_count": 67,
     "metadata": {},
     "output_type": "execute_result"
    }
   ],
   "source": [
    "m1 = np.reshape(arr, (5,4))\n",
    "m1"
   ]
  },
  {
   "cell_type": "code",
   "execution_count": 68,
   "id": "5b7f9f66",
   "metadata": {},
   "outputs": [
    {
     "data": {
      "text/plain": [
       "array([[ 0,  1,  2,  3],\n",
       "       [ 4,  5,  6,  7],\n",
       "       [ 8,  9, 10, 11]])"
      ]
     },
     "execution_count": 68,
     "metadata": {},
     "output_type": "execute_result"
    }
   ],
   "source": [
    "m1[0:3,0:5]"
   ]
  },
  {
   "cell_type": "code",
   "execution_count": 70,
   "id": "8b008358",
   "metadata": {},
   "outputs": [
    {
     "data": {
      "text/plain": [
       "array([[0, 0, 0, 0, 0, 0],\n",
       "       [0, 0, 0, 0, 0, 0],\n",
       "       [0, 0, 0, 0, 0, 0]])"
      ]
     },
     "execution_count": 70,
     "metadata": {},
     "output_type": "execute_result"
    }
   ],
   "source": [
    "zArr=np.zeros((3,6),dtype=int)\n",
    "zArr"
   ]
  },
  {
   "cell_type": "code",
   "execution_count": 71,
   "id": "3da536b5",
   "metadata": {},
   "outputs": [
    {
     "data": {
      "text/plain": [
       "array([[ 0.75991981, -0.85595015,  1.06084321],\n",
       "       [-0.07533841, -1.4154668 , -0.99392723],\n",
       "       [ 2.13880852, -0.51982947, -0.75156163],\n",
       "       [-0.29599775,  0.72687688,  0.20976475],\n",
       "       [ 1.25005006,  0.87460029,  0.18838675],\n",
       "       [-0.73617627, -1.43150503,  0.89987324]])"
      ]
     },
     "execution_count": 71,
     "metadata": {},
     "output_type": "execute_result"
    }
   ],
   "source": [
    "rArr=np.random.randn(6,3)\n",
    "rArr"
   ]
  },
  {
   "cell_type": "code",
   "execution_count": 72,
   "id": "cd62b7ec",
   "metadata": {},
   "outputs": [
    {
     "data": {
      "text/plain": [
       "array([[ 0.75991981, -0.07533841,  2.13880852, -0.29599775,  1.25005006,\n",
       "        -0.73617627],\n",
       "       [-0.85595015, -1.4154668 , -0.51982947,  0.72687688,  0.87460029,\n",
       "        -1.43150503],\n",
       "       [ 1.06084321, -0.99392723, -0.75156163,  0.20976475,  0.18838675,\n",
       "         0.89987324]])"
      ]
     },
     "execution_count": 72,
     "metadata": {},
     "output_type": "execute_result"
    }
   ],
   "source": [
    "rArr.T #Transpose , convert rows to columns and vice versa."
   ]
  },
  {
   "cell_type": "code",
   "execution_count": 75,
   "id": "f068ed72",
   "metadata": {},
   "outputs": [
    {
     "data": {
      "text/plain": [
       "array([[ 0,  3,  6,  9, 12],\n",
       "       [ 1,  4,  7, 10, 13],\n",
       "       [ 2,  5,  8, 11, 14]])"
      ]
     },
     "execution_count": 75,
     "metadata": {},
     "output_type": "execute_result"
    }
   ],
   "source": [
    "arr=np.arange(15).reshape(5,3)\n",
    "arr.T"
   ]
  },
  {
   "cell_type": "code",
   "execution_count": null,
   "id": "07e528da",
   "metadata": {},
   "outputs": [],
   "source": []
  }
 ],
 "metadata": {
  "kernelspec": {
   "display_name": "Python 3",
   "language": "python",
   "name": "python3"
  },
  "language_info": {
   "codemirror_mode": {
    "name": "ipython",
    "version": 3
   },
   "file_extension": ".py",
   "mimetype": "text/x-python",
   "name": "python",
   "nbconvert_exporter": "python",
   "pygments_lexer": "ipython3",
   "version": "3.8.8"
  }
 },
 "nbformat": 4,
 "nbformat_minor": 5
}
