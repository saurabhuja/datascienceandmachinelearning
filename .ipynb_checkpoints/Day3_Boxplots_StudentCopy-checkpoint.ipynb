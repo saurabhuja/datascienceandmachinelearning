{
 "cells": [
  {
   "cell_type": "code",
   "execution_count": null,
   "metadata": {
    "id": "PEDRmu2K8Cg3",
    "outputId": "ede57275-028d-4e39-d8c2-b1fdb4916bc7"
   },
   "outputs": [],
   "source": [
    "import numpy as np\n",
    "import pandas as pd\n",
    "import matplotlib.pyplot as plt\n",
    "import seaborn as sns\n",
    "import warnings\n",
    "warnings.filterwarnings('ignore')\n",
    "\n",
    "DF = pd.read_csv(r\"DemographicData.csv\")\n",
    "\n",
    "DF.columns = (['CountryName', 'CountryCode', 'BirthRate', 'InternetAccess',\n",
    "       'IncomeGroup'])\n",
    "\n",
    "DF.head()"
   ]
  },
  {
   "cell_type": "markdown",
   "metadata": {
    "id": "XiurX4GM8Cg5"
   },
   "source": [
    "# BirthRate distribution using boxplot()"
   ]
  },
  {
   "cell_type": "code",
   "execution_count": null,
   "metadata": {
    "id": "iSI_ciLu8Cg7",
    "outputId": "2c7d8a67-d5fb-4b73-e7b0-73d0ec3485c1"
   },
   "outputs": [],
   "source": [
    "vis2 = sns.boxplot(data=DF,x=\"IncomeGroup\", y=\"BirthRate\")"
   ]
  },
  {
   "cell_type": "code",
   "execution_count": null,
   "metadata": {
    "id": "5nF12AKQ8Cg7",
    "outputId": "6a65e2ee-5f90-4618-8c42-4c2142481b77"
   },
   "outputs": [],
   "source": [
    "DF[DF.IncomeGroup==\"High income\"].describe()[['BirthRate']]"
   ]
  },
  {
   "cell_type": "code",
   "execution_count": null,
   "metadata": {
    "id": "QjE2kiWO8Cg7",
    "outputId": "3fc3a561-5194-482b-facc-38f38658abb8"
   },
   "outputs": [],
   "source": [
    "DF[DF.IncomeGroup==\"High income\"].sort_values(\"BirthRate\")[['BirthRate']]"
   ]
  },
  {
   "cell_type": "code",
   "execution_count": null,
   "metadata": {
    "id": "KLQSb5Pz8Cg8",
    "outputId": "967b58fd-35f6-4e80-81ad-4772aba52e10"
   },
   "outputs": [],
   "source": [
    "print(\"Mean \",DF[DF.IncomeGroup==\"Lower middle income\"]['BirthRate'].mean())\n",
    "print(\"Median \",DF[DF.IncomeGroup==\"Lower middle income\"]['BirthRate'].median())"
   ]
  },
  {
   "cell_type": "code",
   "execution_count": null,
   "metadata": {
    "id": "11ikIaS58Cg8",
    "outputId": "ee1d871e-9b65-4eaa-c493-ca0c289bd7a6"
   },
   "outputs": [],
   "source": [
    "print(\"Mean \",DF[DF.IncomeGroup==\"High income\"]['BirthRate'].mean())\n",
    "print(\"Median \",DF[DF.IncomeGroup==\"High income\"]['BirthRate'].median())"
   ]
  },
  {
   "cell_type": "markdown",
   "metadata": {
    "id": "D9PMlFIH8Cg8"
   },
   "source": [
    "# BirthRate Distribution using swarmplot()"
   ]
  },
  {
   "cell_type": "code",
   "execution_count": null,
   "metadata": {
    "id": "ODuhHvnD8Cg8",
    "outputId": "e5e1642a-4408-4159-f164-bc0d1bae0cd2"
   },
   "outputs": [],
   "source": [
    "vis3 = sns.swarmplot(data=DF,x=\"IncomeGroup\", y=\"BirthRate\")"
   ]
  },
  {
   "cell_type": "markdown",
   "metadata": {
    "id": "51TIDN_S8Cg9"
   },
   "source": [
    "## Merging of boxplot() & swarmplot()"
   ]
  },
  {
   "cell_type": "code",
   "execution_count": null,
   "metadata": {
    "id": "EQvo15hM8Cg9",
    "outputId": "83746ced-5cdd-46c7-899c-779a667cec9f"
   },
   "outputs": [],
   "source": [
    "plt.rcParams['figure.figsize']=(10,8)\n",
    "\n",
    "sns.boxplot(data=DF,x=\"IncomeGroup\", y=\"BirthRate\", color='lightgrey')\n",
    "sns.swarmplot(data=DF,x=\"IncomeGroup\", y=\"BirthRate\")\n",
    "\n",
    "plt.show()"
   ]
  },
  {
   "cell_type": "code",
   "execution_count": null,
   "metadata": {
    "id": "0qx1vjwx8Cg9"
   },
   "outputs": [],
   "source": []
  },
  {
   "cell_type": "code",
   "execution_count": null,
   "metadata": {
    "id": "udH-yBr68Cg9"
   },
   "outputs": [],
   "source": []
  },
  {
   "cell_type": "code",
   "execution_count": null,
   "metadata": {
    "id": "6kdJPybr8Cg9"
   },
   "outputs": [],
   "source": []
  }
 ],
 "metadata": {
  "colab": {
   "provenance": []
  },
  "kernelspec": {
   "display_name": "Python 3",
   "language": "python",
   "name": "python3"
  },
  "language_info": {
   "codemirror_mode": {
    "name": "ipython",
    "version": 3
   },
   "file_extension": ".py",
   "mimetype": "text/x-python",
   "name": "python",
   "nbconvert_exporter": "python",
   "pygments_lexer": "ipython3",
   "version": "3.8.8"
  }
 },
 "nbformat": 4,
 "nbformat_minor": 1
}
