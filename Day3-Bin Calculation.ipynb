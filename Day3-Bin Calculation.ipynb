{
 "cells": [
  {
   "cell_type": "code",
   "execution_count": 1,
   "id": "29f4c595",
   "metadata": {},
   "outputs": [
    {
     "data": {
      "image/png": "[encoded data removed]",
      "text/plain": [
       "<Figure size 432x288 with 1 Axes>"
      ]
     },
     "metadata": {
      "needs_background": "light"
     },
     "output_type": "display_data"
    }
   ],
   "source": [
    "import numpy as np\n",
    "import pandas as pd\n",
    "import matplotlib.pyplot as plt\n",
    "import seaborn as sns\n",
    "import warnings\n",
    "warnings.filterwarnings('ignore')\n",
    "\n",
    "DF = pd.read_csv(r\"DemographicData.csv\")\n",
    "\n",
    "DF.columns = (['CountryName', 'CountryCode', 'BirthRate', 'InternetAccess',\n",
    "       'IncomeGroup'])\n",
    "\n",
    "DF.head()\n",
    "\n",
    "\n",
    "sns.distplot(DF.InternetAccess,\n",
    "            hist_kws={'edgecolor':'black'},\n",
    "            kde_kws={'color':'red','shade':True},\n",
    "            hist=True,kde=True)\n",
    "plt.show()"
   ]
  },
  {
   "cell_type": "markdown",
   "id": "c8983463",
   "metadata": {},
   "source": [
    "# Bin Calculation Formula"
   ]
  },
  {
   "cell_type": "code",
   "execution_count": 2,
   "id": "626377c3",
   "metadata": {},
   "outputs": [
    {
     "data": {
      "text/plain": [
       "'\\noutlier calculation IQR=(Q3-Q1)*1.5\\nbin calculation IQR=(Q3-Q1)*2\\n'"
      ]
     },
     "execution_count": 2,
     "metadata": {},
     "output_type": "execute_result"
    }
   ],
   "source": [
    "\"\"\"\n",
    "outlier calculation IQR=(Q3-Q1)*1.5\n",
    "bin calculation IQR=(Q3-Q1)*2\n",
    "\"\"\""
   ]
  },
  {
   "cell_type": "code",
   "execution_count": 5,
   "id": "e88ba395",
   "metadata": {},
   "outputs": [
    {
     "name": "stdout",
     "output_type": "stream",
     "text": [
      "Number of Bin 6\n",
      "Bin Width 17.832723166317137\n"
     ]
    }
   ],
   "source": [
    "Q1=np.quantile(DF.InternetAccess,0.25)\n",
    "Q3=np.quantile(DF.InternetAccess,0.75)\n",
    "IQR=Q3-Q1\n",
    "datmin,datmax = DF.InternetAccess.min(), DF.InternetAccess.max()\n",
    "datrng = datmax-datmin\n",
    "N= len(DF)\n",
    "bw=(2*IQR)/np.power(N,1/3)\n",
    "result=int((datrng/bw)+1)\n",
    "\n",
    "print(\"Number of Bin\",result)\n",
    "print(\"Bin Width\",bw)"
   ]
  },
  {
   "cell_type": "code",
   "execution_count": null,
   "id": "7123cde1",
   "metadata": {},
   "outputs": [],
   "source": []
  }
 ],
 "metadata": {
  "kernelspec": {
   "display_name": "Python 3",
   "language": "python",
   "name": "python3"
  },
  "language_info": {
   "codemirror_mode": {
    "name": "ipython",
    "version": 3
   },
   "file_extension": ".py",
   "mimetype": "text/x-python",
   "name": "python",
   "nbconvert_exporter": "python",
   "pygments_lexer": "ipython3",
   "version": "3.8.8"
  }
 },
 "nbformat": 4,
 "nbformat_minor": 5
}
