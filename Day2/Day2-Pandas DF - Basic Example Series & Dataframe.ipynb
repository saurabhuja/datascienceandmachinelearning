{
 "cells": [
  {
   "cell_type": "code",
   "execution_count": 1,
   "metadata": {},
   "outputs": [],
   "source": [
    "import numpy as np\n",
    "import matplotlib.pyplot as plt\n",
    "import pandas as pd"
   ]
  },
  {
   "cell_type": "code",
   "execution_count": null,
   "metadata": {},
   "outputs": [],
   "source": [
    "\"\"\"\n",
    "Series\t=> Is a one-dimension array like object containing seq. of values and \n",
    "an associated array of data labels called its index\n",
    "\"\"\""
   ]
  },
  {
   "cell_type": "code",
   "execution_count": 4,
   "metadata": {
    "collapsed": true
   },
   "outputs": [
    {
     "name": "stdout",
     "output_type": "stream",
     "text": [
      "Datatype of varObj <class 'pandas.core.series.Series'>\n",
      "Values on varObj\n",
      "0    4\n",
      "1    7\n",
      "2   -5\n",
      "3    3\n",
      "dtype: int64\n",
      "\n",
      "Series values [ 4  7 -5  3]\n",
      "Series index RangeIndex(start=0, stop=4, step=1)\n"
     ]
    }
   ],
   "source": [
    "varObj = pd.Series([4,7,-5,3])\n",
    "\n",
    "print(\"Datatype of varObj\", type(varObj))\n",
    "print(\"Values on varObj\")\n",
    "print(varObj)\n",
    "print()\n",
    "\n",
    "print(\"Series values\", varObj.values)\n",
    "print(\"Series index\", varObj.index)"
   ]
  },
  {
   "cell_type": "code",
   "execution_count": 7,
   "metadata": {},
   "outputs": [
    {
     "name": "stdout",
     "output_type": "stream",
     "text": [
      "Datatype of varObj2 <class 'pandas.core.series.Series'>\n",
      "Values on varObj2\n",
      "d    4\n",
      "b    7\n",
      "a   -5\n",
      "c    3\n",
      "dtype: int64\n",
      "\n",
      "Series values [ 4  7 -5  3]\n",
      "Series index Index(['d', 'b', 'a', 'c'], dtype='object')\n",
      "\n",
      "Value at index a -5\n",
      "Value at index c,a & b\n",
      "c    3\n",
      "a   -5\n",
      "b    7\n",
      "dtype: int64\n"
     ]
    }
   ],
   "source": [
    "varObj2 = pd.Series([4,7,-5,3], index=['d','b','a','c'])\n",
    "\n",
    "print(\"Datatype of varObj2\", type(varObj2))\n",
    "print(\"Values on varObj2\")\n",
    "print(varObj2)\n",
    "print()\n",
    "\n",
    "print(\"Series values\", varObj2.values)\n",
    "print(\"Series index\", varObj2.index)\n",
    "print()\n",
    "\n",
    "print(\"Value at index a\", varObj2['a'])\n",
    "print(\"Value at index c,a & b\")\n",
    "print(varObj2[['c','a','b']])"
   ]
  },
  {
   "cell_type": "code",
   "execution_count": 8,
   "metadata": {},
   "outputs": [],
   "source": [
    "Pdict = {\"David\":0,\"Joe\":1,\"James\":2,\"Anthony\":3,\"Danny\":4,\"Chris\":5,\"Paul\":6,\"Kevin\":7,\"Derrick\":8,\"Dwayne\":9}\n"
   ]
  },
  {
   "cell_type": "code",
   "execution_count": 9,
   "metadata": {
    "collapsed": true
   },
   "outputs": [
    {
     "data": {
      "text/plain": [
       "David      0\n",
       "Joe        1\n",
       "James      2\n",
       "Anthony    3\n",
       "Danny      4\n",
       "Chris      5\n",
       "Paul       6\n",
       "Kevin      7\n",
       "Derrick    8\n",
       "Dwayne     9\n",
       "dtype: int64"
      ]
     },
     "execution_count": 9,
     "metadata": {},
     "output_type": "execute_result"
    }
   ],
   "source": [
    "varObj3 = pd.Series(Pdict)\n",
    "varObj3"
   ]
  },
  {
   "cell_type": "code",
   "execution_count": 22,
   "metadata": {
    "collapsed": true
   },
   "outputs": [
    {
     "data": {
      "image/png": "[encoded data removed]",
      "text/plain": [
       "<Figure size 432x288 with 1 Axes>"
      ]
     },
     "metadata": {
      "needs_background": "light"
     },
     "output_type": "display_data"
    }
   ],
   "source": [
    "s = pd.Series(np.random.randn(10).cumsum() , index=np.arange(0,100,10))\n",
    "s.plot()\n",
    "plt.show()"
   ]
  },
  {
   "cell_type": "markdown",
   "metadata": {},
   "source": [
    "# Dataframe"
   ]
  },
  {
   "cell_type": "code",
   "execution_count": 25,
   "metadata": {},
   "outputs": [],
   "source": [
    "data = {'state':['Ohio','Ohio','Ohio','Nevada','Nevada','Nevada'],\n",
    "       'year':[2000,20021,2002,2001,2002,2003],\n",
    "       'taxRate':[1.5,1.7,3.6,2.4,2.9,3.2]}\n",
    "\n",
    "frame = pd.DataFrame(data)"
   ]
  },
  {
   "cell_type": "code",
   "execution_count": 26,
   "metadata": {
    "collapsed": true
   },
   "outputs": [
    {
     "data": {
      "text/html": [
       "<div>\n",
       "<style scoped>\n",
       "    .dataframe tbody tr th:only-of-type {\n",
       "        vertical-align: middle;\n",
       "    }\n",
       "\n",
       "    .dataframe tbody tr th {\n",
       "        vertical-align: top;\n",
       "    }\n",
       "\n",
       "    .dataframe thead th {\n",
       "        text-align: right;\n",
       "    }\n",
       "</style>\n",
       "<table border=\"1\" class=\"dataframe\">\n",
       "  <thead>\n",
       "    <tr style=\"text-align: right;\">\n",
       "      <th></th>\n",
       "      <th>state</th>\n",
       "      <th>year</th>\n",
       "      <th>taxRate</th>\n",
       "    </tr>\n",
       "  </thead>\n",
       "  <tbody>\n",
       "    <tr>\n",
       "      <th>0</th>\n",
       "      <td>Ohio</td>\n",
       "      <td>2000</td>\n",
       "      <td>1.5</td>\n",
       "    </tr>\n",
       "    <tr>\n",
       "      <th>1</th>\n",
       "      <td>Ohio</td>\n",
       "      <td>20021</td>\n",
       "      <td>1.7</td>\n",
       "    </tr>\n",
       "    <tr>\n",
       "      <th>2</th>\n",
       "      <td>Ohio</td>\n",
       "      <td>2002</td>\n",
       "      <td>3.6</td>\n",
       "    </tr>\n",
       "    <tr>\n",
       "      <th>3</th>\n",
       "      <td>Nevada</td>\n",
       "      <td>2001</td>\n",
       "      <td>2.4</td>\n",
       "    </tr>\n",
       "    <tr>\n",
       "      <th>4</th>\n",
       "      <td>Nevada</td>\n",
       "      <td>2002</td>\n",
       "      <td>2.9</td>\n",
       "    </tr>\n",
       "    <tr>\n",
       "      <th>5</th>\n",
       "      <td>Nevada</td>\n",
       "      <td>2003</td>\n",
       "      <td>3.2</td>\n",
       "    </tr>\n",
       "  </tbody>\n",
       "</table>\n",
       "</div>"
      ],
      "text/plain": [
       "    state   year  taxRate\n",
       "0    Ohio   2000      1.5\n",
       "1    Ohio  20021      1.7\n",
       "2    Ohio   2002      3.6\n",
       "3  Nevada   2001      2.4\n",
       "4  Nevada   2002      2.9\n",
       "5  Nevada   2003      3.2"
      ]
     },
     "execution_count": 26,
     "metadata": {},
     "output_type": "execute_result"
    }
   ],
   "source": [
    "frame"
   ]
  },
  {
   "cell_type": "code",
   "execution_count": 45,
   "metadata": {
    "collapsed": true
   },
   "outputs": [
    {
     "data": {
      "text/html": [
       "<div>\n",
       "<style scoped>\n",
       "    .dataframe tbody tr th:only-of-type {\n",
       "        vertical-align: middle;\n",
       "    }\n",
       "\n",
       "    .dataframe tbody tr th {\n",
       "        vertical-align: top;\n",
       "    }\n",
       "\n",
       "    .dataframe thead th {\n",
       "        text-align: right;\n",
       "    }\n",
       "</style>\n",
       "<table border=\"1\" class=\"dataframe\">\n",
       "  <thead>\n",
       "    <tr style=\"text-align: right;\">\n",
       "      <th></th>\n",
       "      <th>A</th>\n",
       "      <th>B</th>\n",
       "      <th>C</th>\n",
       "      <th>D</th>\n",
       "    </tr>\n",
       "  </thead>\n",
       "  <tbody>\n",
       "    <tr>\n",
       "      <th>0</th>\n",
       "      <td>0.510370</td>\n",
       "      <td>-0.265524</td>\n",
       "      <td>2.046164</td>\n",
       "      <td>0.016927</td>\n",
       "    </tr>\n",
       "    <tr>\n",
       "      <th>10</th>\n",
       "      <td>0.621077</td>\n",
       "      <td>-1.380906</td>\n",
       "      <td>2.333343</td>\n",
       "      <td>-0.605063</td>\n",
       "    </tr>\n",
       "    <tr>\n",
       "      <th>20</th>\n",
       "      <td>1.645760</td>\n",
       "      <td>-3.258892</td>\n",
       "      <td>3.566724</td>\n",
       "      <td>-0.901051</td>\n",
       "    </tr>\n",
       "    <tr>\n",
       "      <th>30</th>\n",
       "      <td>1.844521</td>\n",
       "      <td>-4.305068</td>\n",
       "      <td>4.548996</td>\n",
       "      <td>-0.786868</td>\n",
       "    </tr>\n",
       "    <tr>\n",
       "      <th>40</th>\n",
       "      <td>0.408626</td>\n",
       "      <td>-5.983595</td>\n",
       "      <td>3.792987</td>\n",
       "      <td>-0.447107</td>\n",
       "    </tr>\n",
       "    <tr>\n",
       "      <th>50</th>\n",
       "      <td>0.779378</td>\n",
       "      <td>-5.077079</td>\n",
       "      <td>3.143036</td>\n",
       "      <td>-0.397089</td>\n",
       "    </tr>\n",
       "    <tr>\n",
       "      <th>60</th>\n",
       "      <td>2.179397</td>\n",
       "      <td>-5.068504</td>\n",
       "      <td>2.023417</td>\n",
       "      <td>-2.690327</td>\n",
       "    </tr>\n",
       "    <tr>\n",
       "      <th>70</th>\n",
       "      <td>2.725261</td>\n",
       "      <td>-4.785543</td>\n",
       "      <td>1.831150</td>\n",
       "      <td>-4.154835</td>\n",
       "    </tr>\n",
       "    <tr>\n",
       "      <th>80</th>\n",
       "      <td>3.548257</td>\n",
       "      <td>-3.656454</td>\n",
       "      <td>2.345314</td>\n",
       "      <td>-4.003071</td>\n",
       "    </tr>\n",
       "    <tr>\n",
       "      <th>90</th>\n",
       "      <td>2.402063</td>\n",
       "      <td>-5.206064</td>\n",
       "      <td>2.130639</td>\n",
       "      <td>-4.205009</td>\n",
       "    </tr>\n",
       "  </tbody>\n",
       "</table>\n",
       "</div>"
      ],
      "text/plain": [
       "           A         B         C         D\n",
       "0   0.510370 -0.265524  2.046164  0.016927\n",
       "10  0.621077 -1.380906  2.333343 -0.605063\n",
       "20  1.645760 -3.258892  3.566724 -0.901051\n",
       "30  1.844521 -4.305068  4.548996 -0.786868\n",
       "40  0.408626 -5.983595  3.792987 -0.447107\n",
       "50  0.779378 -5.077079  3.143036 -0.397089\n",
       "60  2.179397 -5.068504  2.023417 -2.690327\n",
       "70  2.725261 -4.785543  1.831150 -4.154835\n",
       "80  3.548257 -3.656454  2.345314 -4.003071\n",
       "90  2.402063 -5.206064  2.130639 -4.205009"
      ]
     },
     "execution_count": 45,
     "metadata": {},
     "output_type": "execute_result"
    }
   ],
   "source": [
    "df = pd.DataFrame(np.random.randn(10,4).cumsum(0),\n",
    "            columns=['A','B','C','D'],\n",
    "            index=np.arange(0,100,10))\n",
    "\n",
    "df"
   ]
  },
  {
   "cell_type": "code",
   "execution_count": 48,
   "metadata": {
    "collapsed": true
   },
   "outputs": [
    {
     "data": {
      "image/png": "[encoded data removed]",
      "text/plain": [
       "<Figure size 432x288 with 1 Axes>"
      ]
     },
     "metadata": {
      "needs_background": "light"
     },
     "output_type": "display_data"
    }
   ],
   "source": [
    "df.plot()\n",
    "plt.show()"
   ]
  },
  {
   "cell_type": "code",
   "execution_count": null,
   "metadata": {},
   "outputs": [],
   "source": []
  },
  {
   "cell_type": "code",
   "execution_count": null,
   "metadata": {},
   "outputs": [],
   "source": []
  },
  {
   "cell_type": "code",
   "execution_count": 11,
   "metadata": {},
   "outputs": [
    {
     "data": {
      "text/plain": [
       "array([ 1,  3,  6, 10], dtype=int32)"
      ]
     },
     "execution_count": 11,
     "metadata": {},
     "output_type": "execute_result"
    }
   ],
   "source": [
    "np.array([1,2,3,4]).cumsum()"
   ]
  },
  {
   "cell_type": "code",
   "execution_count": 14,
   "metadata": {},
   "outputs": [
    {
     "data": {
      "text/plain": [
       "array([[ 1,  3,  6, 10],\n",
       "       [ 1,  3,  6, 10]], dtype=int32)"
      ]
     },
     "execution_count": 14,
     "metadata": {},
     "output_type": "execute_result"
    }
   ],
   "source": [
    "np.array([[1,2,3,4],\n",
    "         [1,2,3,4]]).cumsum(1)"
   ]
  },
  {
   "cell_type": "code",
   "execution_count": null,
   "metadata": {},
   "outputs": [],
   "source": []
  }
 ],
 "metadata": {
  "kernelspec": {
   "display_name": "Python 3",
   "language": "python",
   "name": "python3"
  },
  "language_info": {
   "codemirror_mode": {
    "name": "ipython",
    "version": 3
   },
   "file_extension": ".py",
   "mimetype": "text/x-python",
   "name": "python",
   "nbconvert_exporter": "python",
   "pygments_lexer": "ipython3",
   "version": "3.7.6"
  }
 },
 "nbformat": 4,
 "nbformat_minor": 4
}
