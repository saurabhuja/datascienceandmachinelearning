{
 "cells": [
  {
   "cell_type": "markdown",
   "metadata": {},
   "source": [
    "# Variable Declaration"
   ]
  },
  {
   "cell_type": "code",
   "execution_count": 9,
   "metadata": {},
   "outputs": [],
   "source": [
    "salary = 24000.69             # python does type inferencing"
   ]
  },
  {
   "cell_type": "code",
   "execution_count": 10,
   "metadata": {},
   "outputs": [
    {
     "name": "stdout",
     "output_type": "stream",
     "text": [
      "Value in salary 24000.69\n",
      "Datatype of salary <class 'float'>\n"
     ]
    }
   ],
   "source": [
    "print(\"Value in salary\", salary)\n",
    "print(\"Datatype of salary\", type(salary))"
   ]
  },
  {
   "cell_type": "code",
   "execution_count": 17,
   "metadata": {},
   "outputs": [
    {
     "name": "stdout",
     "output_type": "stream",
     "text": [
      "5000 True Steven\n",
      "<class 'int'> <class 'bool'> <class 'str'>\n"
     ]
    }
   ],
   "source": [
    "bonus = 5000\n",
    "indicator = True\n",
    "name = 'Steven'\n",
    "\n",
    "print(bonus,indicator,name)\n",
    "print(type(bonus), type(indicator),type(name))"
   ]
  },
  {
   "cell_type": "code",
   "execution_count": 19,
   "metadata": {},
   "outputs": [
    {
     "name": "stdout",
     "output_type": "stream",
     "text": [
      "Calculation Result  2650\n",
      "Comparision Result False\n"
     ]
    }
   ],
   "source": [
    "num1 = 10\n",
    "num2 = 20\n",
    "\n",
    "result = ((num1+200)+(num2+300))*5\n",
    "print(\"Calculation Result \", result)\n",
    "\n",
    "result = (num1!=num1) and (num1<num2)\n",
    "print(\"Comparision Result\", result)"
   ]
  },
  {
   "cell_type": "markdown",
   "metadata": {},
   "source": [
    "# While loop"
   ]
  },
  {
   "cell_type": "code",
   "execution_count": 24,
   "metadata": {
    "collapsed": true
   },
   "outputs": [
    {
     "name": "stdout",
     "output_type": "stream",
     "text": [
      "0\n",
      "1\n",
      "2\n",
      "3\n",
      "4\n",
      "5\n",
      "6\n",
      "7\n",
      "8\n",
      "9\n",
      "10\n",
      "----------End OF Loop--------\n"
     ]
    }
   ],
   "source": [
    "counter = 0\n",
    "\n",
    "while(counter<=10):\n",
    "    print(counter)\n",
    "    counter += 1                      \n",
    "    \n",
    "print(\"----------End OF Loop--------\")    "
   ]
  },
  {
   "cell_type": "code",
   "execution_count": 25,
   "metadata": {
    "collapsed": true
   },
   "outputs": [
    {
     "name": "stdout",
     "output_type": "stream",
     "text": [
      "0\n",
      "----------End OF Loop--------\n",
      "1\n",
      "----------End OF Loop--------\n",
      "2\n",
      "----------End OF Loop--------\n",
      "3\n",
      "----------End OF Loop--------\n",
      "4\n",
      "----------End OF Loop--------\n",
      "5\n",
      "----------End OF Loop--------\n",
      "6\n",
      "----------End OF Loop--------\n",
      "7\n",
      "----------End OF Loop--------\n",
      "8\n",
      "----------End OF Loop--------\n",
      "9\n",
      "----------End OF Loop--------\n",
      "10\n",
      "----------End OF Loop--------\n"
     ]
    }
   ],
   "source": [
    "counter = 0\n",
    "\n",
    "while(counter<=10):\n",
    "    print(counter)\n",
    "    counter += 1                      \n",
    "    print(\"----------End OF Loop--------\")    "
   ]
  },
  {
   "cell_type": "markdown",
   "metadata": {},
   "source": [
    "# for loop"
   ]
  },
  {
   "cell_type": "code",
   "execution_count": null,
   "metadata": {},
   "outputs": [],
   "source": [
    "\"\"\"\n",
    "range(start,stop,step)\n",
    "\n",
    "start   default 0\n",
    "stop    mandatory , upper  bounds are not included\n",
    "step    default 1, increment by \n",
    "\"\"\""
   ]
  },
  {
   "cell_type": "code",
   "execution_count": null,
   "metadata": {},
   "outputs": [],
   "source": [
    "\n",
    "for i in range(1,10):              # start  1   stop 10   step  1\n",
    "    print(i)"
   ]
  },
  {
   "cell_type": "code",
   "execution_count": null,
   "metadata": {},
   "outputs": [],
   "source": [
    "for i in range(5):              # start  0   stop 5   step  1\n",
    "    print(i)"
   ]
  },
  {
   "cell_type": "code",
   "execution_count": null,
   "metadata": {},
   "outputs": [],
   "source": [
    "for i in range(10,100,10):              # start  10   stop 100   step  10\n",
    "    print(i)"
   ]
  },
  {
   "cell_type": "code",
   "execution_count": null,
   "metadata": {},
   "outputs": [],
   "source": [
    "for i in range(10,0,-1):              # start  10   stop 0   step  -1\n",
    "    print(i)"
   ]
  },
  {
   "cell_type": "markdown",
   "metadata": {},
   "source": [
    "# List"
   ]
  },
  {
   "cell_type": "code",
   "execution_count": 28,
   "metadata": {},
   "outputs": [
    {
     "name": "stdout",
     "output_type": "stream",
     "text": [
      "Values [11, 22, 33, 44, 55, 66, 77, 88, 99]\n",
      "Datatype <class 'list'>\n",
      "Num of elements 9\n"
     ]
    }
   ],
   "source": [
    "mList = [11,22,33,44,55,66,77,88,99]\n",
    "\n",
    "print(\"Values\", mList)\n",
    "print(\"Datatype\", type(mList))\n",
    "print(\"Num of elements\", len(mList))"
   ]
  },
  {
   "cell_type": "code",
   "execution_count": 29,
   "metadata": {
    "collapsed": true
   },
   "outputs": [
    {
     "name": "stdout",
     "output_type": "stream",
     "text": [
      "11\n",
      "22\n",
      "44\n",
      "66\n"
     ]
    }
   ],
   "source": [
    "print(mList[0])\n",
    "print(mList[1])\n",
    "print(mList[3])\n",
    "print(mList[5])"
   ]
  },
  {
   "cell_type": "code",
   "execution_count": 30,
   "metadata": {
    "collapsed": true
   },
   "outputs": [
    {
     "name": "stdout",
     "output_type": "stream",
     "text": [
      "11\n",
      "22\n",
      "33\n",
      "44\n",
      "55\n",
      "66\n",
      "77\n",
      "88\n",
      "99\n"
     ]
    }
   ],
   "source": [
    "for i in mList:\n",
    "    print(i)"
   ]
  },
  {
   "cell_type": "code",
   "execution_count": 31,
   "metadata": {},
   "outputs": [
    {
     "name": "stdout",
     "output_type": "stream",
     "text": [
      "[11, 22, 33, 44, 55, 66, 77, 88, 99, 5]\n"
     ]
    }
   ],
   "source": [
    "mList.append(5)\n",
    "print(mList)"
   ]
  },
  {
   "cell_type": "code",
   "execution_count": 32,
   "metadata": {},
   "outputs": [
    {
     "name": "stdout",
     "output_type": "stream",
     "text": [
      "[11, 22, 33, 44, 55, 66, 77, 88, 99, 5, 97]\n"
     ]
    }
   ],
   "source": [
    "mList.append(97)\n",
    "print(mList)"
   ]
  },
  {
   "cell_type": "code",
   "execution_count": 33,
   "metadata": {},
   "outputs": [
    {
     "name": "stdout",
     "output_type": "stream",
     "text": [
      "[5, 11, 22, 33, 44, 55, 66, 77, 88, 97, 99]\n"
     ]
    }
   ],
   "source": [
    "mList.sort()\n",
    "print(mList)"
   ]
  },
  {
   "cell_type": "code",
   "execution_count": 34,
   "metadata": {},
   "outputs": [
    {
     "name": "stdout",
     "output_type": "stream",
     "text": [
      "[99, 97, 88, 77, 66, 55, 44, 33, 22, 11, 5]\n"
     ]
    }
   ],
   "source": [
    "mList.sort(reverse=True)\n",
    "print(mList)"
   ]
  },
  {
   "cell_type": "markdown",
   "metadata": {},
   "source": [
    "# Tuples"
   ]
  },
  {
   "cell_type": "code",
   "execution_count": 39,
   "metadata": {},
   "outputs": [
    {
     "name": "stdout",
     "output_type": "stream",
     "text": [
      "(11,)\n",
      "<class 'tuple'>\n"
     ]
    }
   ],
   "source": [
    "mTuple = (11,)   # tuple with single element\n",
    "\n",
    "print(mTuple)\n",
    "print(type(mTuple))"
   ]
  },
  {
   "cell_type": "markdown",
   "metadata": {},
   "source": [
    "# Dictionary"
   ]
  },
  {
   "cell_type": "code",
   "execution_count": 42,
   "metadata": {},
   "outputs": [
    {
     "name": "stdout",
     "output_type": "stream",
     "text": [
      "Dictionary  {'eid': 100, 'name': 'steven', 'job': 'sales'}\n",
      "Only Keys dict_keys(['eid', 'name', 'job'])\n",
      "Only values dict_values([100, 'steven', 'sales'])\n",
      "Value at key name steven\n"
     ]
    }
   ],
   "source": [
    "empDict = {'eid':100,'name':'steven','job':'sales'}\n",
    "\n",
    "print(\"Dictionary \", empDict)\n",
    "print(\"Only Keys\", empDict.keys())\n",
    "print(\"Only values\", empDict.values())\n",
    "print(\"Value at key name\", empDict['name'])"
   ]
  },
  {
   "cell_type": "code",
   "execution_count": 44,
   "metadata": {},
   "outputs": [
    {
     "name": "stdout",
     "output_type": "stream",
     "text": [
      "eid 100\n",
      "name steven\n",
      "job sales\n"
     ]
    }
   ],
   "source": [
    "for i in empDict:\n",
    "    print(i,empDict[i])"
   ]
  },
  {
   "cell_type": "code",
   "execution_count": 45,
   "metadata": {},
   "outputs": [
    {
     "name": "stdout",
     "output_type": "stream",
     "text": [
      "{'eid': 100, 'name': 'steven', 'job': 'sales'}\n"
     ]
    }
   ],
   "source": [
    "print(empDict)"
   ]
  },
  {
   "cell_type": "code",
   "execution_count": 46,
   "metadata": {},
   "outputs": [
    {
     "name": "stdout",
     "output_type": "stream",
     "text": [
      "{'eid': 100, 'name': 'steven', 'job': 'sales', 'salary': 24000.89}\n"
     ]
    }
   ],
   "source": [
    "empDict[\"salary\"] = 24000.89\n",
    "print(empDict)"
   ]
  },
  {
   "cell_type": "markdown",
   "metadata": {},
   "source": [
    "# Module"
   ]
  },
  {
   "cell_type": "code",
   "execution_count": 57,
   "metadata": {},
   "outputs": [],
   "source": [
    "# import color\n",
    "import color as c"
   ]
  },
  {
   "cell_type": "code",
   "execution_count": 58,
   "metadata": {},
   "outputs": [
    {
     "name": "stdout",
     "output_type": "stream",
     "text": [
      "You Choose Red Color\n"
     ]
    }
   ],
   "source": [
    "# color.red()\n",
    "c.red()"
   ]
  },
  {
   "cell_type": "code",
   "execution_count": 55,
   "metadata": {},
   "outputs": [],
   "source": [
    "# from color import *\n",
    "from color import blue,green"
   ]
  },
  {
   "cell_type": "code",
   "execution_count": 51,
   "metadata": {},
   "outputs": [
    {
     "name": "stdout",
     "output_type": "stream",
     "text": [
      "You Choose Blue Color\n"
     ]
    }
   ],
   "source": [
    "blue()"
   ]
  },
  {
   "cell_type": "code",
   "execution_count": 56,
   "metadata": {},
   "outputs": [
    {
     "name": "stdout",
     "output_type": "stream",
     "text": [
      "You Choose Green Color\n"
     ]
    }
   ],
   "source": [
    "green()"
   ]
  }
 ],
 "metadata": {
  "kernelspec": {
   "display_name": "Python 3",
   "language": "python",
   "name": "python3"
  },
  "language_info": {
   "codemirror_mode": {
    "name": "ipython",
    "version": 3
   },
   "file_extension": ".py",
   "mimetype": "text/x-python",
   "name": "python",
   "nbconvert_exporter": "python",
   "pygments_lexer": "ipython3",
   "version": "3.7.6"
  }
 },
 "nbformat": 4,
 "nbformat_minor": 4
}
