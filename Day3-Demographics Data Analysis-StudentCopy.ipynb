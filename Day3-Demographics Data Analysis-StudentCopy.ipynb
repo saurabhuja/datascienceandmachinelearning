{
 "cells": [
  {
   "cell_type": "code",
   "execution_count": 1,
   "metadata": {},
   "outputs": [],
   "source": [
    "import numpy as np\n",
    "import pandas as pd\n",
    "import matplotlib.pyplot as plt\n",
    "import seaborn as sns\n",
    "import warnings\n",
    "warnings.filterwarnings('ignore')"
   ]
  },
  {
   "cell_type": "code",
   "execution_count": 2,
   "metadata": {},
   "outputs": [],
   "source": [
    "DF = pd.read_csv(r\"DemographicData.csv\")"
   ]
  },
  {
   "cell_type": "code",
   "execution_count": 3,
   "metadata": {},
   "outputs": [],
   "source": [
    "DF.columns = (['CountryName', 'CountryCode', 'BirthRate', 'InternetAccess',\n",
    "       'IncomeGroup'])"
   ]
  },
  {
   "cell_type": "code",
   "execution_count": 4,
   "metadata": {},
   "outputs": [
    {
     "data": {
      "text/html": [
       "<div>\n",
       "<style scoped>\n",
       "    .dataframe tbody tr th:only-of-type {\n",
       "        vertical-align: middle;\n",
       "    }\n",
       "\n",
       "    .dataframe tbody tr th {\n",
       "        vertical-align: top;\n",
       "    }\n",
       "\n",
       "    .dataframe thead th {\n",
       "        text-align: right;\n",
       "    }\n",
       "</style>\n",
       "<table border=\"1\" class=\"dataframe\">\n",
       "  <thead>\n",
       "    <tr style=\"text-align: right;\">\n",
       "      <th></th>\n",
       "      <th>CountryName</th>\n",
       "      <th>CountryCode</th>\n",
       "      <th>BirthRate</th>\n",
       "      <th>InternetAccess</th>\n",
       "      <th>IncomeGroup</th>\n",
       "    </tr>\n",
       "  </thead>\n",
       "  <tbody>\n",
       "    <tr>\n",
       "      <th>0</th>\n",
       "      <td>Aruba</td>\n",
       "      <td>ABW</td>\n",
       "      <td>10.244</td>\n",
       "      <td>78.9</td>\n",
       "      <td>High income</td>\n",
       "    </tr>\n",
       "    <tr>\n",
       "      <th>1</th>\n",
       "      <td>Afghanistan</td>\n",
       "      <td>AFG</td>\n",
       "      <td>35.253</td>\n",
       "      <td>5.9</td>\n",
       "      <td>Low income</td>\n",
       "    </tr>\n",
       "    <tr>\n",
       "      <th>2</th>\n",
       "      <td>Angola</td>\n",
       "      <td>AGO</td>\n",
       "      <td>45.985</td>\n",
       "      <td>19.1</td>\n",
       "      <td>Upper middle income</td>\n",
       "    </tr>\n",
       "    <tr>\n",
       "      <th>3</th>\n",
       "      <td>Albania</td>\n",
       "      <td>ALB</td>\n",
       "      <td>12.877</td>\n",
       "      <td>57.2</td>\n",
       "      <td>Upper middle income</td>\n",
       "    </tr>\n",
       "    <tr>\n",
       "      <th>4</th>\n",
       "      <td>United Arab Emirates</td>\n",
       "      <td>ARE</td>\n",
       "      <td>11.044</td>\n",
       "      <td>88.0</td>\n",
       "      <td>High income</td>\n",
       "    </tr>\n",
       "  </tbody>\n",
       "</table>\n",
       "</div>"
      ],
      "text/plain": [
       "            CountryName CountryCode  BirthRate  InternetAccess  \\\n",
       "0                 Aruba         ABW     10.244            78.9   \n",
       "1           Afghanistan         AFG     35.253             5.9   \n",
       "2                Angola         AGO     45.985            19.1   \n",
       "3               Albania         ALB     12.877            57.2   \n",
       "4  United Arab Emirates         ARE     11.044            88.0   \n",
       "\n",
       "           IncomeGroup  \n",
       "0          High income  \n",
       "1           Low income  \n",
       "2  Upper middle income  \n",
       "3  Upper middle income  \n",
       "4          High income  "
      ]
     },
     "execution_count": 4,
     "metadata": {},
     "output_type": "execute_result"
    }
   ],
   "source": [
    "DF.head()"
   ]
  },
  {
   "cell_type": "code",
   "execution_count": null,
   "metadata": {},
   "outputs": [],
   "source": [
    "\"\"\"\n",
    "The Client wants us to prepare a ML model that accepts InternetAccess \n",
    "as inputand predicts the BirthRate in that Country\n",
    "\n",
    "InternetAccess   Continuous    helps predict => X Feature\n",
    "BirthRate        Continuous     value to predict => Y Feature\n",
    "\n",
    "We would look into distibution of both X & y individually to draw conclusions\n",
    "We would calculate outliers for both of them\n",
    "\"\"\""
   ]
  },
  {
   "cell_type": "markdown",
   "metadata": {},
   "source": [
    "### Plotting the distribution of InternetAccess using distplot()"
   ]
  },
  {
   "cell_type": "code",
   "execution_count": null,
   "metadata": {},
   "outputs": [],
   "source": [
    "\"\"\"\n",
    "distplot   => distribution plot\n",
    "           => histogram (prob. bins) + knernel density estimation plot (distribution curve)\n",
    "           => univariant plot that just accepts X-axis values\n",
    "           => y-axis is implicitly calculated (prob.)\n",
    "\"\"\""
   ]
  },
  {
   "cell_type": "code",
   "execution_count": 6,
   "metadata": {},
   "outputs": [
    {
     "data": {
      "image/png": "[encoded data removed]",
      "text/plain": [
       "<Figure size 432x288 with 1 Axes>"
      ]
     },
     "metadata": {
      "needs_background": "light"
     },
     "output_type": "display_data"
    }
   ],
   "source": [
    "sns.distplot(\n",
    "    DF.InternetAccess,      # Data to be plotted (assumed to be a column 'InternetAccess' in DataFrame DF)\n",
    "    hist_kws={\"edgecolor\": \"black\"},   # Keyword arguments for customizing the histogram appearance\n",
    "    kde_kws={\"color\": \"red\", \"shade\": True},   # Keyword arguments for customizing the kernel density estimate appearance\n",
    "    hist=True,               # Whether to include a histogram in the plot\n",
    "    kde=True                 # Whether to include a kernel density estimate in the plot\n",
    ")\n",
    "plt.show()                  # Display the plot\n"
   ]
  },
  {
   "cell_type": "code",
   "execution_count": 7,
   "metadata": {},
   "outputs": [
    {
     "data": {
      "image/png": "[encoded data removed]",
      "text/plain": [
       "<Figure size 432x288 with 1 Axes>"
      ]
     },
     "metadata": {
      "needs_background": "light"
     },
     "output_type": "display_data"
    }
   ],
   "source": [
    "sns.distplot(DF[DF.IncomeGroup==\"High income\"].InternetAccess,\n",
    "             hist_kws={\"edgecolor\":\"black\"},\n",
    "            kde_kws={\"color\":\"red\",\"shade\":True},hist=True,kde=True)\n",
    "\n",
    "sns.distplot(DF[DF.IncomeGroup==\"Low income\"].InternetAccess,\n",
    "             hist_kws={\"edgecolor\":\"black\"},\n",
    "            kde_kws={\"color\":\"Green\",\"shade\":True},hist=True,kde=True)\n",
    "\n",
    "\n",
    "plt.show()"
   ]
  },
  {
   "cell_type": "code",
   "execution_count": null,
   "metadata": {},
   "outputs": [],
   "source": [
    "\"\"\"\n",
    "We are experimenting on random value distribution, generated from\n",
    "function randn()\n",
    "randn() returns positive & negative random floating point values\n",
    "\n",
    "We will generate N values using randn() and plot its distribution using \n",
    "distplot\n",
    "\"\"\""
   ]
  },
  {
   "cell_type": "code",
   "execution_count": 8,
   "metadata": {},
   "outputs": [],
   "source": [
    "def distribution(sample_size):\n",
    "    from numpy.random import randn\n",
    "    nList=[]\n",
    "    N=sample_size            # number of samples/values\n",
    "\n",
    "    for i in range(N):\n",
    "        nList.append(randn())\n",
    "\n",
    "    df = pd.DataFrame(nList,columns=(['x']))    \n",
    "\n",
    "    sns.distplot(df.x, hist_kws={\"edgecolor\":\"black\"})\n",
    "    plt.show()\n"
   ]
  },
  {
   "cell_type": "code",
   "execution_count": 9,
   "metadata": {},
   "outputs": [
    {
     "data": {
      "image/png": "[encoded data removed]",
      "text/plain": [
       "<Figure size 432x288 with 1 Axes>"
      ]
     },
     "metadata": {
      "needs_background": "light"
     },
     "output_type": "display_data"
    }
   ],
   "source": [
    "distribution(sample_size=10)"
   ]
  },
  {
   "cell_type": "code",
   "execution_count": 10,
   "metadata": {},
   "outputs": [],
   "source": [
    "def distribution(sample_size):\n",
    "    from numpy.random import randn\n",
    "    nList=[]\n",
    "    metricsList = []\n",
    "    N=sample_size            # number of samples/values\n",
    "\n",
    "    \n",
    "    for j in range(5):\n",
    "        nList=[]\n",
    "        for i in range(N):\n",
    "            nList.append(randn())\n",
    "        \n",
    "            df = pd.DataFrame(nList,columns=(['x']))    \n",
    "        print(len(df))\n",
    "        print(\"Sample\",j,\"variance\",df.x.var(),\"std\",df.x.std())\n",
    "        metricsList.append(df.x.var())\n",
    "    print(\"Batch variation\",np.var(metricsList))\n",
    "        \n",
    "    \n",
    "    \n"
   ]
  },
  {
   "cell_type": "code",
   "execution_count": 11,
   "metadata": {},
   "outputs": [
    {
     "name": "stdout",
     "output_type": "stream",
     "text": [
      "10000\n",
      "Sample 0 variance 1.0067207375996514 std 1.003354741654043\n",
      "10000\n",
      "Sample 1 variance 0.9982439969217825 std 0.9991216126787481\n",
      "10000\n",
      "Sample 2 variance 0.9664018475223981 std 0.9830573978778646\n",
      "10000\n",
      "Sample 3 variance 1.0026381019734618 std 1.0013181821845951\n",
      "10000\n",
      "Sample 4 variance 0.9894879068347884 std 0.9947300673221798\n",
      "Batch variation 0.00020559864216000823\n"
     ]
    }
   ],
   "source": [
    "distribution(sample_size=10000)"
   ]
  },
  {
   "cell_type": "code",
   "execution_count": 14,
   "metadata": {},
   "outputs": [
    {
     "name": "stdout",
     "output_type": "stream",
     "text": [
      "10\n",
      "Sample 0 variance 0.8163547305463104 std 0.9035235085742431\n",
      "10\n",
      "Sample 1 variance 0.8327393037084209 std 0.9125455077465566\n",
      "10\n",
      "Sample 2 variance 0.9832610735352646 std 0.9915952165754253\n",
      "10\n",
      "Sample 3 variance 1.514162428840644 std 1.2305130754448097\n",
      "10\n",
      "Sample 4 variance 1.1066886022856905 std 1.0519926816692646\n",
      "Batch variation 0.06498094170157105\n"
     ]
    }
   ],
   "source": [
    "distribution(sample_size=10)"
   ]
  },
  {
   "cell_type": "code",
   "execution_count": 15,
   "metadata": {},
   "outputs": [
    {
     "name": "stdout",
     "output_type": "stream",
     "text": [
      "100\n",
      "Sample 0 variance 1.1100819541719344 std 1.0536042682961826\n",
      "100\n",
      "Sample 1 variance 1.076611150340287 std 1.0375987424531157\n",
      "100\n",
      "Sample 2 variance 0.8604694171560288 std 0.9276149077909587\n",
      "100\n",
      "Sample 3 variance 1.0268142953784856 std 1.013318457040276\n",
      "100\n",
      "Sample 4 variance 0.7427707211968447 std 0.8618414710356219\n",
      "Batch variation 0.019525140780366147\n"
     ]
    }
   ],
   "source": [
    "distribution(sample_size=100)"
   ]
  },
  {
   "cell_type": "code",
   "execution_count": null,
   "metadata": {},
   "outputs": [
    {
     "name": "stdout",
     "output_type": "stream",
     "text": [
      "10000\n",
      "Sample 0 variance 1.0082155537039887 std 1.0040993744166902\n",
      "10000\n",
      "Sample 1 variance 1.005815171447525 std 1.002903370942348\n"
     ]
    }
   ],
   "source": [
    "distribution(sample_size=10000)"
   ]
  },
  {
   "cell_type": "code",
   "execution_count": null,
   "metadata": {},
   "outputs": [],
   "source": []
  }
 ],
 "metadata": {
  "kernelspec": {
   "display_name": "Python 3",
   "language": "python",
   "name": "python3"
  },
  "language_info": {
   "codemirror_mode": {
    "name": "ipython",
    "version": 3
   },
   "file_extension": ".py",
   "mimetype": "text/x-python",
   "name": "python",
   "nbconvert_exporter": "python",
   "pygments_lexer": "ipython3",
   "version": "3.8.8"
  }
 },
 "nbformat": 4,
 "nbformat_minor": 2
}
