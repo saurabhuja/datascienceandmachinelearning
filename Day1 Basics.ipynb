{
 "cells": [
  {
   "cell_type": "code",
   "execution_count": 21,
   "id": "dacb8ff1",
   "metadata": {},
   "outputs": [
    {
     "name": "stdout",
     "output_type": "stream",
     "text": [
      "hello\n"
     ]
    }
   ],
   "source": [
    "print('hello')"
   ]
  },
  {
   "cell_type": "markdown",
   "id": "4ec32a14",
   "metadata": {},
   "source": [
    "# comments"
   ]
  },
  {
   "cell_type": "code",
   "execution_count": 22,
   "id": "314e937a",
   "metadata": {},
   "outputs": [],
   "source": [
    "salary=2340230"
   ]
  },
  {
   "cell_type": "code",
   "execution_count": 5,
   "id": "0152da9d",
   "metadata": {},
   "outputs": [
    {
     "name": "stdout",
     "output_type": "stream",
     "text": [
      "value in salary 2340230\n"
     ]
    }
   ],
   "source": [
    "print(\"value in salary\",salary)"
   ]
  },
  {
   "cell_type": "code",
   "execution_count": 6,
   "id": "2cf98c42",
   "metadata": {},
   "outputs": [
    {
     "name": "stdout",
     "output_type": "stream",
     "text": [
      "<class 'int'>\n"
     ]
    }
   ],
   "source": [
    "print(type(salary))"
   ]
  },
  {
   "cell_type": "code",
   "execution_count": 7,
   "id": "a13d94a3",
   "metadata": {},
   "outputs": [],
   "source": [
    "counter=0"
   ]
  },
  {
   "cell_type": "code",
   "execution_count": 13,
   "id": "43bc00fe",
   "metadata": {},
   "outputs": [],
   "source": [
    "while(counter<=5):\n",
    "    print(counter)\n",
    "    counter+=1"
   ]
  },
  {
   "cell_type": "code",
   "execution_count": 11,
   "id": "f1fdd23d",
   "metadata": {},
   "outputs": [
    {
     "name": "stdout",
     "output_type": "stream",
     "text": [
      "1\n",
      "2\n",
      "3\n",
      "4\n"
     ]
    }
   ],
   "source": [
    "for i in range(1,5):\n",
    "    print(i)"
   ]
  },
  {
   "cell_type": "markdown",
   "id": "d0ae548b",
   "metadata": {},
   "source": [
    "# Lists"
   ]
  },
  {
   "cell_type": "code",
   "execution_count": 14,
   "id": "ddfdecd3",
   "metadata": {},
   "outputs": [
    {
     "name": "stdout",
     "output_type": "stream",
     "text": [
      "[34, 5, 2, 45, 6, 6]\n",
      "<class 'list'>\n",
      "6\n"
     ]
    }
   ],
   "source": [
    "mylist=[34,5,2,45,6,6]\n",
    "print(mylist)\n",
    "print(type(mylist))\n",
    "print(len(mylist))"
   ]
  },
  {
   "cell_type": "code",
   "execution_count": 15,
   "id": "d940abc7",
   "metadata": {},
   "outputs": [
    {
     "name": "stdout",
     "output_type": "stream",
     "text": [
      "[34, 5, 2, 45, 6, 6, 23]\n"
     ]
    }
   ],
   "source": [
    "mylist.append(23)\n",
    "print(mylist)"
   ]
  },
  {
   "cell_type": "code",
   "execution_count": 20,
   "id": "097ed7cf",
   "metadata": {},
   "outputs": [],
   "source": [
    "mylist.sort()"
   ]
  },
  {
   "cell_type": "code",
   "execution_count": 23,
   "id": "de49a702",
   "metadata": {},
   "outputs": [
    {
     "name": "stdout",
     "output_type": "stream",
     "text": [
      "[2, 5, 6, 6, 23, 34, 45]\n"
     ]
    }
   ],
   "source": [
    "print(mylist)"
   ]
  },
  {
   "cell_type": "markdown",
   "id": "90aba582",
   "metadata": {},
   "source": [
    "# Tupples"
   ]
  },
  {
   "cell_type": "code",
   "execution_count": 24,
   "id": "c3b4534e",
   "metadata": {},
   "outputs": [
    {
     "name": "stdout",
     "output_type": "stream",
     "text": [
      "(11,)\n",
      "<class 'tuple'>\n"
     ]
    }
   ],
   "source": [
    "mTuple = (11,)   # tuple with single element\n",
    "\n",
    "print(mTuple)\n",
    "print(type(mTuple))"
   ]
  },
  {
   "cell_type": "code",
   "execution_count": 26,
   "id": "3a15d95b",
   "metadata": {},
   "outputs": [
    {
     "ename": "TypeError",
     "evalue": "'tuple' object does not support item assignment",
     "output_type": "error",
     "traceback": [
      "\u001b[0;31m---------------------------------------------------------------------------\u001b[0m",
      "\u001b[0;31mTypeError\u001b[0m                                 Traceback (most recent call last)",
      "\u001b[0;32m<ipython-input-26-367fe608a1f4>\u001b[0m in \u001b[0;36m<module>\u001b[0;34m\u001b[0m\n\u001b[0;32m----> 1\u001b[0;31m \u001b[0mmTuple\u001b[0m\u001b[0;34m[\u001b[0m\u001b[0;36m0\u001b[0m\u001b[0;34m]\u001b[0m\u001b[0;34m=\u001b[0m\u001b[0;34m(\u001b[0m\u001b[0;36m12\u001b[0m\u001b[0;34m)\u001b[0m\u001b[0;34m\u001b[0m\u001b[0;34m\u001b[0m\u001b[0m\n\u001b[0m",
      "\u001b[0;31mTypeError\u001b[0m: 'tuple' object does not support item assignment"
     ]
    }
   ],
   "source": [
    "mTuple[0]=(12)"
   ]
  },
  {
   "cell_type": "markdown",
   "id": "def29e1e",
   "metadata": {},
   "source": [
    "# Dictionaries"
   ]
  },
  {
   "cell_type": "code",
   "execution_count": 27,
   "id": "c8b579e6",
   "metadata": {},
   "outputs": [
    {
     "name": "stdout",
     "output_type": "stream",
     "text": [
      "Dictionary  {'eid': 100, 'name': 'steven', 'job': 'sales'}\n",
      "Only Keys dict_keys(['eid', 'name', 'job'])\n",
      "Only values dict_values([100, 'steven', 'sales'])\n",
      "Value at key name steven\n"
     ]
    }
   ],
   "source": [
    "empDict = {'eid':100,'name':'steven','job':'sales'}\n",
    "\n",
    "print(\"Dictionary \", empDict)\n",
    "print(\"Only Keys\", empDict.keys())\n",
    "print(\"Only values\", empDict.values())\n",
    "print(\"Value at key name\", empDict['name'])"
   ]
  },
  {
   "cell_type": "code",
   "execution_count": null,
   "id": "c68a381a",
   "metadata": {},
   "outputs": [],
   "source": []
  }
 ],
 "metadata": {
  "kernelspec": {
   "display_name": "Python 3",
   "language": "python",
   "name": "python3"
  },
  "language_info": {
   "codemirror_mode": {
    "name": "ipython",
    "version": 3
   },
   "file_extension": ".py",
   "mimetype": "text/x-python",
   "name": "python",
   "nbconvert_exporter": "python",
   "pygments_lexer": "ipython3",
   "version": "3.8.8"
  }
 },
 "nbformat": 4,
 "nbformat_minor": 5
}
